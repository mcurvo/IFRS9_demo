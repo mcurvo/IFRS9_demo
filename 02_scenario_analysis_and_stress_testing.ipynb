{
 "cells": [
  {
   "cell_type": "code",
   "execution_count": 1,
   "id": "08d4a56f",
   "metadata": {},
   "outputs": [],
   "source": [
    "import pandas as pd\n",
    "import numpy as np\n",
    "import matplotlib.pyplot as plt\n",
    "from datetime import datetime"
   ]
  },
  {
   "cell_type": "code",
   "execution_count": 2,
   "id": "fc080301",
   "metadata": {},
   "outputs": [],
   "source": [
    "ecl    = pd.read_csv('./data/ecl_results.csv')  \n",
    "scens  = pd.read_csv('./data/ForecastedMEV.csv', parse_dates=['DATE'])"
   ]
  },
  {
   "cell_type": "code",
   "execution_count": 3,
   "id": "a082d9f2",
   "metadata": {},
   "outputs": [
    {
     "name": "stdout",
     "output_type": "stream",
     "text": [
      "Scenario GDP means:\n",
      " SCENARIO\n",
      "BASE     2.707266e+06\n",
      "BEST     2.732434e+06\n",
      "WORST    2.668587e+06\n",
      "Name: GDP, dtype: float64\n",
      "\n",
      "Adjustment factors:\n",
      " SCENARIO\n",
      "BASE     1.000000\n",
      "BEST     1.009296\n",
      "WORST    0.985713\n",
      "Name: GDP, dtype: float64\n"
     ]
    }
   ],
   "source": [
    "# Adjustment factors\n",
    "gdp_means = scens.groupby('SCENARIO')['GDP'].mean()\n",
    "base      = gdp_means['BASE']      # or whichever your Base label is\n",
    "factors   = gdp_means / base       # Upside >1, Downside <1\n",
    "\n",
    "print(\"Scenario GDP means:\\n\", gdp_means)\n",
    "print(\"\\nAdjustment factors:\\n\", factors)"
   ]
  },
  {
   "cell_type": "code",
   "execution_count": 4,
   "id": "98defd60",
   "metadata": {},
   "outputs": [
    {
     "data": {
      "text/html": [
       "<div>\n",
       "<style scoped>\n",
       "    .dataframe tbody tr th:only-of-type {\n",
       "        vertical-align: middle;\n",
       "    }\n",
       "\n",
       "    .dataframe tbody tr th {\n",
       "        vertical-align: top;\n",
       "    }\n",
       "\n",
       "    .dataframe thead th {\n",
       "        text-align: right;\n",
       "    }\n",
       "</style>\n",
       "<table border=\"1\" class=\"dataframe\">\n",
       "  <thead>\n",
       "    <tr style=\"text-align: right;\">\n",
       "      <th></th>\n",
       "      <th>Scenario</th>\n",
       "      <th>Factor</th>\n",
       "      <th>Allowance</th>\n",
       "    </tr>\n",
       "  </thead>\n",
       "  <tbody>\n",
       "    <tr>\n",
       "      <th>0</th>\n",
       "      <td>BASE</td>\n",
       "      <td>1.000000</td>\n",
       "      <td>6.182292e+08</td>\n",
       "    </tr>\n",
       "    <tr>\n",
       "      <th>1</th>\n",
       "      <td>BEST</td>\n",
       "      <td>1.009296</td>\n",
       "      <td>6.239763e+08</td>\n",
       "    </tr>\n",
       "    <tr>\n",
       "      <th>2</th>\n",
       "      <td>WORST</td>\n",
       "      <td>0.985713</td>\n",
       "      <td>6.093963e+08</td>\n",
       "    </tr>\n",
       "  </tbody>\n",
       "</table>\n",
       "</div>"
      ],
      "text/plain": [
       "  Scenario    Factor     Allowance\n",
       "0     BASE  1.000000  6.182292e+08\n",
       "1     BEST  1.009296  6.239763e+08\n",
       "2    WORST  0.985713  6.093963e+08"
      ]
     },
     "metadata": {},
     "output_type": "display_data"
    }
   ],
   "source": [
    "# Loop through scenarios\n",
    "results = []\n",
    "for scen, mult in factors.items():\n",
    "    df = ecl.copy()\n",
    "    df['PD_scen']    = df['Assigned_PD'] * mult\n",
    "    df['ECL_ud']     = df['PD_scen'] * df['LGD'] * df['EAD']\n",
    "    df['ECL_scen']   = df['ECL_ud'] * df['DiscountFactor']\n",
    "    total = df['ECL_scen'].sum()\n",
    "    results.append({'Scenario':scen, 'Factor':mult, 'Allowance':total})\n",
    "\n",
    "scenario_df = pd.DataFrame(results)\n",
    "display(scenario_df)"
   ]
  },
  {
   "cell_type": "code",
   "execution_count": 5,
   "id": "1241aa11",
   "metadata": {},
   "outputs": [
    {
     "name": "stdout",
     "output_type": "stream",
     "text": [
      "  Scenario    Factor     Allowance  Weight  Weighted_ECL\n",
      "0     BASE  1.000000  6.182292e+08    0.50  3.091146e+08\n",
      "1     BEST  1.009296  6.239763e+08    0.25  1.559941e+08\n",
      "2    WORST  0.985713  6.093963e+08    0.25  1.523491e+08\n",
      "\n",
      "Weighted IFRS 9 allowance: £617,457,741.63\n"
     ]
    }
   ],
   "source": [
    "# Weights & final allowance\n",
    "weights = {'BASE':0.5, 'BEST':0.25, 'WORST':0.25}\n",
    "scenario_df['Weight']         = scenario_df['Scenario'].map(weights)\n",
    "scenario_df['Weighted_ECL']   = scenario_df['Allowance'] * scenario_df['Weight']\n",
    "final_allowance = scenario_df['Weighted_ECL'].sum()\n",
    "\n",
    "print(scenario_df)\n",
    "print(f\"\\nWeighted IFRS 9 allowance: £{final_allowance:,.2f}\")"
   ]
  },
  {
   "cell_type": "code",
   "execution_count": 6,
   "id": "e3491f5e",
   "metadata": {},
   "outputs": [
    {
     "data": {
      "image/png": "[encoded data removed]",
      "text/plain": [
       "<Figure size 432x288 with 1 Axes>"
      ]
     },
     "metadata": {
      "needs_background": "light"
     },
     "output_type": "display_data"
    }
   ],
   "source": [
    "# Bar chart\n",
    "plt.figure(figsize=(6,4))\n",
    "plt.bar(scenario_df['Scenario'], scenario_df['Allowance']/1e6)\n",
    "plt.title('ECL Allowance by Scenario (£ million)')\n",
    "plt.ylabel('Allowance (£ m)')\n",
    "plt.show()"
   ]
  },
  {
   "cell_type": "code",
   "execution_count": null,
   "id": "4d0b055a",
   "metadata": {},
   "outputs": [],
   "source": []
  }
 ],
 "metadata": {
  "kernelspec": {
   "display_name": "Python 3 (ipykernel)",
   "language": "python",
   "name": "python3"
  },
  "language_info": {
   "codemirror_mode": {
    "name": "ipython",
    "version": 3
   },
   "file_extension": ".py",
   "mimetype": "text/x-python",
   "name": "python",
   "nbconvert_exporter": "python",
   "pygments_lexer": "ipython3",
   "version": "3.8.12"
  },
  "toc": {
   "base_numbering": 1,
   "nav_menu": {},
   "number_sections": true,
   "sideBar": true,
   "skip_h1_title": false,
   "title_cell": "Table of Contents",
   "title_sidebar": "Contents",
   "toc_cell": false,
   "toc_position": {},
   "toc_section_display": true,
   "toc_window_display": false
  }
 },
 "nbformat": 4,
 "nbformat_minor": 5
}
